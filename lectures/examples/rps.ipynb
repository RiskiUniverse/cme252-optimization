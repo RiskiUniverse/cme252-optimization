{
 "cells": [
  {
   "cell_type": "markdown",
   "metadata": {},
   "source": [
    "# Min-Max Games\n",
    "\n",
    "## Rock Paper Scissors\n",
    "### Moves\n",
    "- Player X chooses Rock $x = (1,0,0)$, Paper $x = (0,1,0)$, or Scissors $x = (0,0,1)$\n",
    "- Player Y does the same with $y$\n",
    "- $x,y \\in \\mathbf{R}^3$\n",
    "\n",
    "### Outcome\n",
    "- Rock beats Scissors\n",
    "- Scissors beats Paper\n",
    "- Paper beats Rock\n",
    "- Players **gain** $1$ point for a win\n",
    "- Players **lose** $1$ point for a loss\n",
    "- 0 points for ties\n",
    "\n",
    "Consider $A$, the **gain matrix** for Player X, given by\n",
    "$$\n",
    "A = \\begin{bmatrix}\n",
    " 0 & -1 & +1\\\\\n",
    "+1 &  0 & -1\\\\\n",
    "-1 & +1 &  0\n",
    "\\end{bmatrix}.\n",
    "$$\n",
    "\n",
    "(Note that $A^T = -A$.)\n",
    "\n",
    "That is $A_{ij}$ is the **gain** (positive or negative) of Player X in the event that\n",
    "\n",
    "- X played $i \\in \\lbrace 1,2,3\\rbrace$ (Rock, Paper, Scissors)\n",
    "- Y played $j \\in \\lbrace 1,2,3\\rbrace$ (Rock, Paper, Scissors)\n",
    "\n",
    "More explicitly, if Player X chooses\n",
    "$$\n",
    "x \\in \\lbrace (1,0,0), (0,1,0), (0,0,1) \\rbrace\n",
    "$$\n",
    "and Player Y chooses\n",
    "$$\n",
    "y \\in \\lbrace (1,0,0), (0,1,0), (0,0,1) \\rbrace\n",
    "$$\n",
    "then the **gain** for Player X is\n",
    "$$\n",
    "x^T A y.\n",
    "$$\n",
    "\n",
    "Since one player's loss is the other's gain, Rock/Paper/Scissors is a **zero-sum game**, so the **gain** for Player Y is\n",
    "$$\n",
    "- x^T A y = x^T A^T y = (x^T A^T y)^T = y^T A x.\n",
    "$$\n",
    "We see that the game is symmetric with respect to the players.\n",
    "\n",
    "### X's Strategy\n",
    "#### Deterministic Strategies\n",
    "\n",
    "Assuming Y goes first and X goes second, X's strategy is easy.\n",
    "\n",
    "Given $y \\in \\lbrace (1,0,0), (0,1,0), (0,0,1) \\rbrace$, X solves the problem\n",
    "\n",
    "$$\n",
    "\\begin{array}{ll}\n",
    "\\mbox{maximize} & x^TAy \\\\\n",
    "\\mbox{subject to} & x \\in \\lbrace (1,0,0), (0,1,0), (0,0,1) \\rbrace,\n",
    "\\end{array}\n",
    "$$\n",
    "which just amounts to choosing the largest element of $Ay$.\n",
    "\n",
    "For example, if Y chooses Rock then $y = (1,0,0)$ and\n",
    "\n",
    "$$Ay = (0,+1,-1).$$\n",
    "\n",
    "Thus, X chooses Paper, $x = (0,1,0)$.\n",
    "\n",
    "#### Probabilistic Strategies\n",
    "Since X can easily defeat any deterministic choice by Y, Y decides to switch to a **randomized** strategy.\n",
    "\n",
    "Y chooses a probability distribution $y \\in \\mathbf{R}^3$ such that\n",
    "$$\n",
    "\\begin{align}\n",
    "\\mathbf{1}^T y = 1\\\\\n",
    "y \\geq 0.\n",
    "\\end{align}\n",
    "$$\n",
    "\n",
    "X does not know Y's choice of Rock, Paper, or Scissors ahead of time, but is aware of Y's **strategy** $y$.\n",
    "\n",
    "X's best strategy is still easy. The **expected gain** of for any choice of X, knowing $y$ is\n",
    "$$\n",
    "Ay.\n",
    "$$\n",
    "\n",
    "X can still just choose the largest element of $Ay$.\n",
    "\n",
    "Thus, X again solves the problem\n",
    "$$\n",
    "\\begin{array}{ll}\n",
    "\\mbox{maximize} & x^TAy \\\\\n",
    "\\mbox{subject to} & x \\in \\lbrace (1,0,0), (0,1,0), (0,0,1) \\rbrace,\n",
    "\\end{array}\n",
    "$$\n",
    "\n",
    "### Y's Strategy\n",
    "Knowing that X will chose the best counter-strategy, Y wants to choose a strategy that will minimize her loss (equivalently, X's gain). Thus, Y solves the problem\n",
    "\n",
    "$$\n",
    "\\begin{array}{ll}\n",
    "\\mbox{minimize} & \\max_i(Ay) \\\\\n",
    "\\mbox{subject to} & \\mathbf{1}^T y = 1\\\\\n",
    "& y \\geq 0\n",
    "\\end{array}\n",
    "$$\n"
   ]
  },
  {
   "cell_type": "code",
   "execution_count": 21,
   "metadata": {
    "collapsed": false
   },
   "outputs": [
    {
     "data": {
      "text/plain": [
       "array([[ True,  True,  True],\n",
       "       [ True,  True,  True],\n",
       "       [ True,  True,  True]], dtype=bool)"
      ]
     },
     "execution_count": 21,
     "metadata": {},
     "output_type": "execute_result"
    }
   ],
   "source": [
    "from cvxpy import *\n",
    "import numpy as np\n",
    "\n",
    "A = np.array([[0,-1,+1],[+1,0,-1],[-1,+1,0]])\n",
    "A.T == -A"
   ]
  },
  {
   "cell_type": "code",
   "execution_count": 24,
   "metadata": {
    "collapsed": false
   },
   "outputs": [
    {
     "data": {
      "text/plain": [
       "array([ 0.33333333,  0.33333333,  0.33333333])"
      ]
     },
     "execution_count": 24,
     "metadata": {},
     "output_type": "execute_result"
    }
   ],
   "source": [
    "y = Variable(3)\n",
    "\n",
    "obj = Minimize(max_entries(A*y))\n",
    "constr = [sum_entries(y) == 1, y >= 0]\n",
    "prob = Problem(obj,constr)\n",
    "prob.solve()\n",
    "y = np.array(y.value).flatten()\n",
    "y"
   ]
  },
  {
   "cell_type": "markdown",
   "metadata": {},
   "source": [
    "- Y's best strategy is to distribute the probability evenly: $y = (1/3,1/3,1/3)$.\n",
    "- Knowing Y's strategy, X's response doesn't matter, since X expects to come out even (0 gain) no matter what choice he makes:"
   ]
  },
  {
   "cell_type": "code",
   "execution_count": 25,
   "metadata": {
    "collapsed": false
   },
   "outputs": [
    {
     "data": {
      "text/plain": [
       "array([  5.55111512e-17,  -2.77555756e-16,   2.22044605e-16])"
      ]
     },
     "execution_count": 25,
     "metadata": {},
     "output_type": "execute_result"
    }
   ],
   "source": [
    "A.dot(y)"
   ]
  },
  {
   "cell_type": "markdown",
   "metadata": {},
   "source": [
    "### Constrained Y\n",
    "- What if Y is constrained to play Rock 50% of the time?\n",
    "- i.e., flip a coin; if heads, Y must play Rock; otherwise free to choose\n",
    "- What is Y's best randomized strategy?\n",
    "\n",
    "$$\n",
    "\\begin{array}{ll}\n",
    "\\mbox{minimize} & \\max_i(Ay) \\\\\n",
    "\\mbox{subject to} & \\mathbf{1}^T y = 1\\\\\n",
    "& y \\geq 0\\\\\n",
    "& y_1 \\geq 1/2\n",
    "\\end{array}\n",
    "$$"
   ]
  },
  {
   "cell_type": "code",
   "execution_count": 26,
   "metadata": {
    "collapsed": false
   },
   "outputs": [
    {
     "data": {
      "text/plain": [
       "array([ 0.5       ,  0.16666667,  0.33333333])"
      ]
     },
     "execution_count": 26,
     "metadata": {},
     "output_type": "execute_result"
    }
   ],
   "source": [
    "y = Variable(3)\n",
    "\n",
    "obj = Minimize(max_entries(A*y))\n",
    "constr = [sum_entries(y) == 1, y >= 0, y[0] >= .5]\n",
    "prob = Problem(obj,constr)\n",
    "prob.solve()\n",
    "y = np.array(y.value).flatten()\n",
    "y"
   ]
  },
  {
   "cell_type": "markdown",
   "metadata": {},
   "source": [
    "### Interpretation\n",
    "- $y^\\star = (1/2, 1/6, 1/3)$\n",
    "- Y plays Rock as little as possible: 50%\n",
    "- X will play more Paper to exploit\n",
    "- Y plays Scissors more often, 33.3%, to compensate\n",
    "\n",
    "### Repeated Play\n",
    "If playing many games, players can learn the other's strategy, and change theirs to exploit\n",
    "\n",
    "Example:\n",
    "- Y plays optimal strategy above\n",
    "- X plays Paper 100% of the time to exploit Y's 50% Rock\n",
    "- Y could **update** her strategy to $y = (1/2, 0, 1/2)$ to make the game even\n",
    "- What is X's best strategy if Y can adjust?\n",
    "\n",
    "\n",
    "### X's Strategy\n",
    "- Assume that Y has some idea of X's randomized strategy, but is still constrained to play Rock 50% of the time\n",
    "- Imagine X chooses $x$ first\n",
    "- $x$ is revealed to Y\n",
    "- Y chooses best reponse under her constraints\n",
    "- Y computes $b = x^T A$\n",
    "- Y solves \n",
    "\n",
    "$$\n",
    "\\begin{array}{ll}\n",
    "g(x) = &\\mbox{minimize} & (x^T A) y \\\\\n",
    "&\\mbox{subject to} & \\mathbf{1}^T y = 1\\\\\n",
    "&& y \\geq 0\\\\\n",
    "&& y_1 \\geq 1/2\n",
    "\\end{array}\n",
    "$$\n",
    "\n",
    "- Then X solves\n",
    "$$\n",
    "\\begin{array}{ll}\n",
    "\\mbox{maximize} & g(x) \\\\\n",
    "\\mbox{subject to} & \\mathbf{1}^T x = 1\\\\\n",
    "& x \\geq 0\n",
    "\\end{array}\n",
    "$$\n",
    "- But how to figure out function $g(x)$?\n",
    "- Normally use the topic of **duality**, but we won't here\n",
    "- We simplified the inner optimization problem earlier\n",
    "- Was easy to see that we just chose the optimal element\n",
    "- Little more complicated in this case, but we can still do it pretty easily\n",
    "\n",
    "### Y's Inner Strategy\n",
    "- Y's choices can be boiled down to three:\n",
    "    - $z_1 = (1, 0, 0)$\n",
    "    - $z_2 = (1/2, 1/2, 0)$\n",
    "    - $z_3 = (1/2, 0, 1/2)$\n",
    "- Y chooses $y$ so that $x^T A y$ is smallest\n",
    "- minimum over a finite set of functions\n",
    "\n",
    "\n",
    "$$\n",
    "\\begin{array}{ll}\n",
    "\\mbox{maximize} & \\min(x^T A z_1, x^T A z_2, x^T A z_3) \\\\\n",
    "\\mbox{subject to} & \\mathbf{1}^T x = 1\\\\\n",
    "& x \\geq 0\n",
    "\\end{array}\n",
    "$$"
   ]
  },
  {
   "cell_type": "code",
   "execution_count": 30,
   "metadata": {
    "collapsed": false
   },
   "outputs": [
    {
     "data": {
      "text/plain": [
       "array([  3.33333333e-01,   6.66666667e-01,  -2.42218924e-10])"
      ]
     },
     "execution_count": 30,
     "metadata": {},
     "output_type": "execute_result"
    }
   ],
   "source": [
    "x = Variable(3)\n",
    "\n",
    "y1 = np.array([1,0,0])\n",
    "y2 = np.array([.5,.5,0])\n",
    "y3 = np.array([.5,0,.5])\n",
    "\n",
    "obj = Maximize(min_elemwise(x.T*A*y1,x.T*A*y2,x.T*A*y3))\n",
    "constr = [sum_entries(x) == 1, x >= 0]\n",
    "prob = Problem(obj,constr)\n",
    "prob.solve()\n",
    "x = np.array(x.value).flatten()\n",
    "x"
   ]
  },
  {
   "cell_type": "markdown",
   "metadata": {},
   "source": [
    "### X's Optimal Strategy\n",
    "- $x^\\star = (1/3, 2/3, 0)$\n",
    "- Along with $y^\\star = (1/2, 1/6, 1/3)$, gives the **equilibrium** strategies for the problem\n",
    "- No player can improve their outcome by adjusting their strategy\n",
    "\n",
    "### Outcome\n",
    "- X has an advantage because Y is constrained to play Rock 50% of the time\n",
    "- For each game, X's expected **gain** is $(x^\\star)^T Ay^\\star = 1/6$"
   ]
  },
  {
   "cell_type": "code",
   "execution_count": 35,
   "metadata": {
    "collapsed": false
   },
   "outputs": [
    {
     "data": {
      "text/plain": [
       "0.16666666679462955"
      ]
     },
     "execution_count": 35,
     "metadata": {},
     "output_type": "execute_result"
    }
   ],
   "source": [
    "x.T.dot(A).dot(y)"
   ]
  },
  {
   "cell_type": "code",
   "execution_count": null,
   "metadata": {
    "collapsed": true
   },
   "outputs": [],
   "source": []
  }
 ],
 "metadata": {
  "kernelspec": {
   "display_name": "Python 2",
   "language": "python",
   "name": "python2"
  },
  "language_info": {
   "codemirror_mode": {
    "name": "ipython",
    "version": 2
   },
   "file_extension": ".py",
   "mimetype": "text/x-python",
   "name": "python",
   "nbconvert_exporter": "python",
   "pygments_lexer": "ipython2",
   "version": "2.7.10"
  }
 },
 "nbformat": 4,
 "nbformat_minor": 0
}
