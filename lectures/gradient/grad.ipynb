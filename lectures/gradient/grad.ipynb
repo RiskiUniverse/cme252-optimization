{
 "cells": [
  {
   "cell_type": "code",
   "execution_count": 1,
   "metadata": {
    "collapsed": true
   },
   "outputs": [],
   "source": [
    "%matplotlib inline\n",
    "import numpy as np\n",
    "import matplotlib.pyplot as plt"
   ]
  },
  {
   "cell_type": "code",
   "execution_count": 110,
   "metadata": {
    "collapsed": false
   },
   "outputs": [
    {
     "name": "stdout",
     "output_type": "stream",
     "text": [
      "[ 2.43243378  1.21025367  0.40022686]\n"
     ]
    }
   ],
   "source": [
    "n = 3\n",
    "\n",
    "np.random.seed(1)\n",
    "A = np.random.randn(n,n)\n",
    "A = A.dot(A.T) + 2*np.eye(n)\n",
    "A /= 5\n",
    "b = np.random.randn(n)\n",
    "\n",
    "print np.linalg.eigvals(A)"
   ]
  },
  {
   "cell_type": "code",
   "execution_count": 111,
   "metadata": {
    "collapsed": false
   },
   "outputs": [],
   "source": [
    "# solve 1/2*xAx - b^Tx\n",
    "x_true = np.linalg.solve(A,b)"
   ]
  },
  {
   "cell_type": "code",
   "execution_count": 167,
   "metadata": {
    "collapsed": true
   },
   "outputs": [],
   "source": [
    "def f(x):\n",
    "    return x.dot(A).dot(x)/2 - b.dot(x)\n",
    "\n",
    "def g(x):\n",
    "    return A.dot(x) - b\n",
    "\n",
    "def grad(alpha, steps=50):\n",
    "    x = np.zeros(n)\n",
    "    vals = []\n",
    "    for i in range(steps):\n",
    "        gr = g(x)\n",
    "        vals += [np.linalg.norm(gr)]\n",
    "        x -= alpha*gr\n",
    "\n",
    "    return vals"
   ]
  },
  {
   "cell_type": "code",
   "execution_count": 136,
   "metadata": {
    "collapsed": false
   },
   "outputs": [],
   "source": []
  },
  {
   "cell_type": "code",
   "execution_count": 130,
   "metadata": {
    "collapsed": false
   },
   "outputs": [],
   "source": [
    "alpha = .9\n",
    "\n",
    "x = np.random.randn(n)\n",
    "k = 100\n",
    "vals = [f(x)]\n",
    "\n",
    "for i in range(k):\n",
    "    gr = g(x)\n",
    "    x -= alpha*gr\n",
    "    vals += [f(x)]"
   ]
  },
  {
   "cell_type": "code",
   "execution_count": 168,
   "metadata": {
    "collapsed": true
   },
   "outputs": [],
   "source": [
    "run1, run2, run3 = grad(.1), grad(.7), grad(.9)"
   ]
  },
  {
   "cell_type": "code",
   "execution_count": 171,
   "metadata": {
    "collapsed": false
   },
   "outputs": [
    {
     "data": {
      "image/png": "[encoded data removed]",
      "text/plain": [
       "<matplotlib.figure.Figure at 0x111da3290>"
      ]
     },
     "metadata": {},
     "output_type": "display_data"
    }
   ],
   "source": [
    "# from matplotlib import rc\n",
    "import matplotlib\n",
    "matplotlib.rcParams.update({'font.size': 14})\n",
    "rc('text', usetex=True)\n",
    "plt.semilogy(run1, label=r\"$\\alpha = 0.1$\")\n",
    "plt.semilogy(run2, label=r\"$\\alpha = 0.7$\")\n",
    "plt.semilogy(run3, label=r\"$\\alpha = 0.9$\")\n",
    "\n",
    "plt.ylabel(r'$\\|\\nabla f(x^k) \\|_2$')\n",
    "plt.xlabel(r'$k$')\n",
    "\n",
    "plt.legend()\n",
    "\n",
    "plt.savefig('fig/converge.pdf', bbox_inches='tight')"
   ]
  },
  {
   "cell_type": "code",
   "execution_count": 7,
   "metadata": {
    "collapsed": false
   },
   "outputs": [],
   "source": [
    "import see\n",
    "import numpy as np\n",
    "a = np.random.randn(4)"
   ]
  },
  {
   "cell_type": "code",
   "execution_count": 8,
   "metadata": {
    "collapsed": false
   },
   "outputs": [
    {
     "data": {
      "text/plain": [
       "     []             in             +              +=             -\n",
       "     -=             *              *=             /              //\n",
       "     /=             //=            %              %=             **\n",
       "     **=            <<             <<=            >>             >>=\n",
       "     &              &=             ^              ^=             |\n",
       "     |=             +obj           -obj           ~              <\n",
       "     <=             ==             !=             >              >=\n",
       "     abs()          bool()         divmod()       float()        hash()\n",
       "     hex()          int()          iter()         len()          long()\n",
       "     oct()          repr()         str()          .T             .all()\n",
       "     .any()         .argmax()      .argmin()      .argpartition()\n",
       "     .argsort()     .astype()      .base          .byteswap()    .choose()\n",
       "     .clip()        .compress()    .conj()        .conjugate()   .copy()\n",
       "     .ctypes        .cumprod()     .cumsum()      .data          .diagonal()\n",
       "     .dot()         .dtype         .dump()        .dumps()       .fill()\n",
       "     .flags         .flat          .flatten()     .getfield()    .imag\n",
       "     .item()        .itemset()     .itemsize      .max()         .mean()\n",
       "     .min()         .nbytes        .ndim          .newbyteorder()\n",
       "     .nonzero()     .partition()   .prod()        .ptp()         .put()\n",
       "     .ravel()       .real          .repeat()      .reshape()     .resize()\n",
       "     .round()       .searchsorted()               .setfield()    .setflags()\n",
       "     .shape         .size          .sort()        .squeeze()     .std()\n",
       "     .strides       .sum()         .swapaxes()    .take()        .tobytes()\n",
       "     .tofile()      .tolist()      .tostring()    .trace()       .transpose()\n",
       "     .var()         .view()"
      ]
     },
     "execution_count": 8,
     "metadata": {},
     "output_type": "execute_result"
    }
   ],
   "source": [
    "see.see(a)"
   ]
  },
  {
   "cell_type": "code",
   "execution_count": null,
   "metadata": {
    "collapsed": true
   },
   "outputs": [],
   "source": []
  }
 ],
 "metadata": {
  "kernelspec": {
   "display_name": "Python 2",
   "language": "python",
   "name": "python2"
  },
  "language_info": {
   "codemirror_mode": {
    "name": "ipython",
    "version": 2
   },
   "file_extension": ".py",
   "mimetype": "text/x-python",
   "name": "python",
   "nbconvert_exporter": "python",
   "pygments_lexer": "ipython2",
   "version": "2.7.10"
  }
 },
 "nbformat": 4,
 "nbformat_minor": 0
}
