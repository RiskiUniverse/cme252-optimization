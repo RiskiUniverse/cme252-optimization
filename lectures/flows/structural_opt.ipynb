{
 "cells": [
  {
   "cell_type": "markdown",
   "metadata": {},
   "source": [
    "# Structural Optimization\n",
    "- offshoot from the network flow notebook (will need definitions from there)"
   ]
  },
  {
   "cell_type": "code",
   "execution_count": 1,
   "metadata": {
    "collapsed": false
   },
   "outputs": [
    {
     "ename": "NameError",
     "evalue": "name 'form_graph' is not defined",
     "output_type": "error",
     "traceback": [
      "\u001b[0;31m---------------------------------------------------------------------------\u001b[0m",
      "\u001b[0;31mNameError\u001b[0m                                 Traceback (most recent call last)",
      "\u001b[0;32m<ipython-input-1-51a12a22fa81>\u001b[0m in \u001b[0;36m<module>\u001b[0;34m()\u001b[0m\n\u001b[0;32m----> 1\u001b[0;31m \u001b[0mG\u001b[0m \u001b[0;34m=\u001b[0m \u001b[0mform_graph\u001b[0m\u001b[0;34m(\u001b[0m\u001b[0;36m5\u001b[0m\u001b[0;34m,\u001b[0m\u001b[0;36m5\u001b[0m\u001b[0;34m,\u001b[0m \u001b[0;36m.05\u001b[0m\u001b[0;34m,\u001b[0m \u001b[0;36m1.4\u001b[0m\u001b[0;34m,\u001b[0m \u001b[0mseed\u001b[0m\u001b[0;34m=\u001b[0m\u001b[0;36m5\u001b[0m\u001b[0;34m)\u001b[0m\u001b[0;34m\u001b[0m\u001b[0m\n\u001b[0m\u001b[1;32m      2\u001b[0m \u001b[0mshow\u001b[0m\u001b[0;34m(\u001b[0m\u001b[0mG\u001b[0m\u001b[0;34m,\u001b[0m\u001b[0msize\u001b[0m\u001b[0;34m=\u001b[0m\u001b[0;36m5\u001b[0m\u001b[0;34m)\u001b[0m\u001b[0;34m\u001b[0m\u001b[0m\n\u001b[1;32m      3\u001b[0m \u001b[0;34m\u001b[0m\u001b[0m\n\u001b[1;32m      4\u001b[0m \u001b[0;32mfor\u001b[0m \u001b[0mn1\u001b[0m\u001b[0;34m,\u001b[0m\u001b[0mn2\u001b[0m\u001b[0;34m,\u001b[0m \u001b[0mdata\u001b[0m \u001b[0;32min\u001b[0m \u001b[0mG\u001b[0m\u001b[0;34m.\u001b[0m\u001b[0medges\u001b[0m\u001b[0;34m(\u001b[0m\u001b[0mdata\u001b[0m\u001b[0;34m=\u001b[0m\u001b[0;32mTrue\u001b[0m\u001b[0;34m)\u001b[0m\u001b[0;34m:\u001b[0m\u001b[0;34m\u001b[0m\u001b[0m\n\u001b[1;32m      5\u001b[0m     \u001b[0;32mdel\u001b[0m \u001b[0mdata\u001b[0m\u001b[0;34m[\u001b[0m\u001b[0;34m'Capacity'\u001b[0m\u001b[0;34m]\u001b[0m\u001b[0;34m\u001b[0m\u001b[0m\n",
      "\u001b[0;31mNameError\u001b[0m: name 'form_graph' is not defined"
     ]
    }
   ],
   "source": [
    "G = form_graph(5,5, .05, 1.4, seed=5)\n",
    "show(G,size=5)\n",
    "\n",
    "for n1,n2, data in G.edges(data=True):\n",
    "    del data['Capacity']\n",
    "    del data['Load']\n",
    "    p1 = np.array(G.node[n1]['pos'])\n",
    "    p2 = np.array(G.node[n2]['pos'])\n",
    "    \n",
    "    data['v'] = p1-p2\n",
    "    \n",
    "for n, data in G.nodes(data=True):\n",
    "    del data['Flow']\n",
    "    data['g'] = 0\n",
    "    data['f'] = np.random.randn(2) - np.array([0,1])"
   ]
  },
  {
   "cell_type": "code",
   "execution_count": null,
   "metadata": {
    "collapsed": true
   },
   "outputs": [],
   "source": [
    "strength = 3.0\n",
    "max_A = 10\n",
    "\n",
    "def reset_edge(G, keys):\n",
    "    for key in keys:\n",
    "        for n1,n2,data in G.edges(data=True):\n",
    "            data[key] = 0\n",
    "        \n",
    "def reset_node(G, keys):   \n",
    "    for key in keys:\n",
    "        for n, data in G.nodes(data=True):\n",
    "            data[key] = 0\n",
    "            \n",
    "def replace_val(G):\n",
    "    for n, data in G.nodes(data=True):\n",
    "        data['g'] = np.array(data['g'].value).flatten()\n",
    "        \n",
    "    for _,_,data in G.edges(data=True):\n",
    "        for key in ('Area', 'Tension'):\n",
    "            data[key] = data[key].value\n",
    "\n",
    "def struct(G, fixed):\n",
    "    reset_node(G, ('g',))\n",
    "    \n",
    "    \n",
    "    constr = []\n",
    "    obj = 0\n",
    "    \n",
    "    for n1,n2,data in G.edges(data=True):\n",
    "        t = cvx.Variable()\n",
    "        a = cvx.Variable()\n",
    "        data['Tension'] = t\n",
    "        data['Area'] = a\n",
    "        \n",
    "        v = data['v']\n",
    "        L = np.linalg.norm(v)\n",
    "\n",
    "        constr += [cvx.abs(t) <= strength*a, a <= max_A] \n",
    "            \n",
    "        G.node[n1]['g'] += v*t/L\n",
    "        G.node[n2]['g'] -= v*t/L\n",
    "        \n",
    "        obj += L*a\n",
    "        \n",
    "\n",
    "\n",
    "    for n, data in G.nodes(data=True):\n",
    "        if n in fixed:\n",
    "            pass\n",
    "        else:\n",
    "            data['g'] += data['f']\n",
    "            constr += [data['g'] == 0]\n",
    "\n",
    "\n",
    "    prob = cvx.Problem(cvx.Minimize(obj), constr)\n",
    "    prob.solve()\n",
    "    replace_val(G)\n",
    "    \n",
    "    return prob.status"
   ]
  },
  {
   "cell_type": "markdown",
   "metadata": {},
   "source": [
    "- solve structural opt problem with some fixed nodes"
   ]
  },
  {
   "cell_type": "code",
   "execution_count": 2,
   "metadata": {
    "collapsed": false
   },
   "outputs": [
    {
     "ename": "NameError",
     "evalue": "name 'struct' is not defined",
     "output_type": "error",
     "traceback": [
      "\u001b[0;31m---------------------------------------------------------------------------\u001b[0m",
      "\u001b[0;31mNameError\u001b[0m                                 Traceback (most recent call last)",
      "\u001b[0;32m<ipython-input-2-ab642f854a00>\u001b[0m in \u001b[0;36m<module>\u001b[0;34m()\u001b[0m\n\u001b[0;32m----> 1\u001b[0;31m \u001b[0mstruct\u001b[0m\u001b[0;34m(\u001b[0m\u001b[0mG\u001b[0m\u001b[0;34m,\u001b[0m \u001b[0;34m[\u001b[0m\u001b[0;36m0\u001b[0m\u001b[0;34m,\u001b[0m\u001b[0;36m5\u001b[0m\u001b[0;34m,\u001b[0m\u001b[0;36m15\u001b[0m\u001b[0;34m,\u001b[0m\u001b[0;36m20\u001b[0m\u001b[0;34m]\u001b[0m\u001b[0;34m)\u001b[0m\u001b[0;34m\u001b[0m\u001b[0m\n\u001b[0m",
      "\u001b[0;31mNameError\u001b[0m: name 'struct' is not defined"
     ]
    }
   ],
   "source": [
    "struct(G, [0,5,15,20])"
   ]
  },
  {
   "cell_type": "markdown",
   "metadata": {},
   "source": [
    "- display struct sizes"
   ]
  },
  {
   "cell_type": "code",
   "execution_count": null,
   "metadata": {
    "collapsed": true
   },
   "outputs": [],
   "source": [
    "show(G, edge_key='Area', labels=False)"
   ]
  }
 ],
 "metadata": {
  "kernelspec": {
   "display_name": "Python 3",
   "language": "python",
   "name": "python3"
  },
  "language_info": {
   "codemirror_mode": {
    "name": "ipython",
    "version": 3
   },
   "file_extension": ".py",
   "mimetype": "text/x-python",
   "name": "python",
   "nbconvert_exporter": "python",
   "pygments_lexer": "ipython3",
   "version": "3.5.0"
  }
 },
 "nbformat": 4,
 "nbformat_minor": 0
}
